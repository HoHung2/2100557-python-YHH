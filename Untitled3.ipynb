{
  "nbformat": 4,
  "nbformat_minor": 0,
  "metadata": {
    "colab": {
      "name": "Untitled3.ipynb",
      "provenance": [],
      "authorship_tag": "ABX9TyMUECUt3O1siKOQ8FrNJcGt",
      "include_colab_link": true
    },
    "kernelspec": {
      "name": "python3",
      "display_name": "Python 3"
    },
    "language_info": {
      "name": "python"
    }
  },
  "cells": [
    {
      "cell_type": "markdown",
      "metadata": {
        "id": "view-in-github",
        "colab_type": "text"
      },
      "source": [
        "<a href=\"https://colab.research.google.com/github/HoHung2/2100557-python-YHH/blob/main/Untitled3.ipynb\" target=\"_parent\"><img src=\"https://colab.research.google.com/assets/colab-badge.svg\" alt=\"Open In Colab\"/></a>"
      ]
    },
    {
      "cell_type": "code",
      "metadata": {
        "colab": {
          "base_uri": "https://localhost:8080/",
          "height": 139
        },
        "id": "u7Md_EzADIG_",
        "outputId": "680b9230-db51-48f2-dae1-a451f8d1b9c9"
      },
      "source": [
        "#2장 변수의 소개\n",
        " \n",
        "  #2-1\n",
        "x=7\n",
        "y=6\n",
        "print(x+y)\n",
        "\n",
        "x='7'\n",
        "y='6'\n",
        "print(x+y)\n",
        "\n",
        "  #2-2\n",
        "import turtle as t\n",
        "t.shape(\"turtle\")\n",
        "radius =50                  #변수값 선언\n",
        "x=30\n",
        "t.circle(radius)            #반지름이 50인 원 그리기    \n",
        "t.fd(x)                     # fd=foword\n",
        "t.circle(radius)\n",
        "x=50\n",
        "t.fd(x)\n",
        "t.circle(radius) \n",
        "\n",
        " #2-3\n",
        " x=input(\"첫번째 정수 입력하시오\")\n",
        " y=input(\"두번째 정수 입력하시오\")\n",
        "\n",
        " print(x, \"+\", y, \"=\", x+y)  #나와야하는 텍스트 +, = 문자도 가능 \n"
      ],
      "execution_count": 2,
      "outputs": [
        {
          "output_type": "error",
          "ename": "IndentationError",
          "evalue": "ignored",
          "traceback": [
            "\u001b[0;36m  File \u001b[0;32m\"<ipython-input-2-312c4de616d8>\"\u001b[0;36m, line \u001b[0;32m25\u001b[0m\n\u001b[0;31m    x=input(\"첫번째 정수 입력하시오\")\u001b[0m\n\u001b[0m    ^\u001b[0m\n\u001b[0;31mIndentationError\u001b[0m\u001b[0;31m:\u001b[0m unexpected indent\n"
          ]
        }
      ]
    },
    {
      "cell_type": "code",
      "metadata": {
        "id": "x68Od2eqFRM4"
      },
      "source": [
        ""
      ],
      "execution_count": null,
      "outputs": []
    },
    {
      "cell_type": "code",
      "metadata": {
        "id": "ddcj-fdaFRev"
      },
      "source": [
        ""
      ],
      "execution_count": null,
      "outputs": []
    }
  ]
}