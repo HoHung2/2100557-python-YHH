{
  "nbformat": 4,
  "nbformat_minor": 0,
  "metadata": {
    "colab": {
      "name": "Untitled4.ipynb",
      "provenance": [],
      "authorship_tag": "ABX9TyPEb/lbBpGxbgawsN3Vle/M",
      "include_colab_link": true
    },
    "kernelspec": {
      "name": "python3",
      "display_name": "Python 3"
    },
    "language_info": {
      "name": "python"
    }
  },
  "cells": [
    {
      "cell_type": "markdown",
      "metadata": {
        "id": "view-in-github",
        "colab_type": "text"
      },
      "source": [
        "<a href=\"https://colab.research.google.com/github/HoHung2/2100557-python-YHH/blob/main/python%20%EC%A0%9C%203%EC%9E%A5%20%EC%97%B0%EC%8A%B5%EB%AC%B8%EC%A0%9C%20.ipynb\" target=\"_parent\"><img src=\"https://colab.research.google.com/assets/colab-badge.svg\" alt=\"Open In Colab\"/></a>"
      ]
    },
    {
      "cell_type": "code",
      "execution_count": 11,
      "metadata": {
        "colab": {
          "base_uri": "https://localhost:8080/"
        },
        "id": "7CfxqdJV0YSg",
        "outputId": "862f2105-15fb-41e9-85b3-09464615f48e"
      },
      "outputs": [
        {
          "output_type": "stream",
          "name": "stdout",
          "text": [
            "아메리카노 판매 개수:2\n",
            "카페라때 판매 개수2\n",
            "카푸치노 판매 개수2\n",
            "총매출 7000 입니다.\n",
            "적자\n"
          ]
        }
      ],
      "source": [
        "#3장 도전문제\n",
        "total = 10000 #총 재료비용\n",
        "americano = 2000\n",
        "cafelatte = 3000\n",
        "capucino = 3500\n",
        "\n",
        "americanos =  int(input(\"아메리카노 판매 개수:\"))\n",
        "cafelattes =  int(input(\"카페라때 판매 개수\"))\n",
        "capucinos  =  int(input(\"카푸치노 판매 개수\"))\n",
        "\n",
        "sales = americano*americanos\n",
        "sales = cafelatte*cafelattes\n",
        "sales = capucino*capucinos\n",
        "\n",
        "print(\"총매출\", sales, \"입니다.\")\n",
        "if(total < sales):print(\"흑자\")\n",
        "else:print(\"적자\")"
      ]
    }
  ]
}