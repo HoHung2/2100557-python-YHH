{
  "nbformat": 4,
  "nbformat_minor": 0,
  "metadata": {
    "colab": {
      "name": "Untitled6.ipynb",
      "provenance": [],
      "authorship_tag": "ABX9TyNc9f4AIzAWH/BOJSj+si7x",
      "include_colab_link": true
    },
    "kernelspec": {
      "name": "python3",
      "display_name": "Python 3"
    },
    "language_info": {
      "name": "python"
    }
  },
  "cells": [
    {
      "cell_type": "markdown",
      "metadata": {
        "id": "view-in-github",
        "colab_type": "text"
      },
      "source": [
        "<a href=\"https://colab.research.google.com/github/HoHung2/2100557-python-YHH/blob/main/python%204%EC%9E%A5%20%EC%97%B0%EC%8A%B5%EB%AC%B8%EC%A0%9C%20.ipynb\" target=\"_parent\"><img src=\"https://colab.research.google.com/assets/colab-badge.svg\" alt=\"Open In Colab\"/></a>"
      ]
    },
    {
      "cell_type": "code",
      "execution_count": 3,
      "metadata": {
        "id": "B_Lj_WvQZku7",
        "colab": {
          "base_uri": "https://localhost:8080/",
          "height": 139
        },
        "outputId": "a1d57556-f854-4676-fa7c-fecf99b600e2"
      },
      "outputs": [
        {
          "output_type": "error",
          "ename": "SyntaxError",
          "evalue": "ignored",
          "traceback": [
            "\u001b[0;36m  File \u001b[0;32m\"<ipython-input-3-5e0dfcd6131a>\"\u001b[0;36m, line \u001b[0;32m17\u001b[0m\n\u001b[0;31m    print(\"만나서 반갑습니다.\", + name + \"씨\")\u001b[0m\n\u001b[0m        ^\u001b[0m\n\u001b[0;31mSyntaxError\u001b[0m\u001b[0;31m:\u001b[0m invalid syntax\n"
          ]
        }
      ],
      "source": [
        "#4장 도전문제\n",
        " #4-1\n",
        "import turtle as t\n",
        "t.shape(\"turtle\")\n",
        "\n",
        "s= turtle.str(input(\"\",\"이름을 입력하시오\"))\n",
        "\n",
        "for i in range(4):\n",
        "  t.write(\"안녕하세요?\"+ s +\"씨, 터틀 인사드립니다.\")\n",
        "  t.left(90)\n",
        "  t.foword(100)\n",
        "t.Screen_exidonclick\n",
        "\n",
        " #4-2\n",
        "print(\"안녕하세요\")\n",
        "\n",
        "name = input(\"이름이 어떻게 되시나요?\")\n",
        "print(\"만나서 반갑습니다.\", name, \"씨\")\n",
        "\n",
        "print(\"이름의 길이는 다음과 같군요:\", end = \"\")\n",
        "print(len(name))\n",
        "\n",
        "age = int(input(\"나이가 어떻게 되시나요?\"))\n",
        "print(\"내년이면\", str(age+1), \"이 되시는군요\")\n",
        "\n",
        "hobby= input(\"취미가 무엇인가요?\")\n",
        "print(\"네 저도\", hobby, \"좋아합니다.\")\n",
        "\n",
        " #4-3\n",
        "year  = input(\"오늘의 연도를 입력하시오: \")\n",
        "month = input(\"오늘의 월을 입력하시오: \")\n",
        "date  = input(\"오늘의 일을 입력하시오: \")\n",
        "print(year, \"/\",  month, \"/\",  year )\n",
        "\n",
        " #4-4\n",
        " import time\n",
        "\n",
        " now = time.time()\n",
        " thisYear =int(1970 + now//(365*24*3600))\n",
        "\n",
        " print(\"올해는\", thisYear, \"입니다.\")\n",
        " age= int(input(\"당신은 몇살입니까?\"))\n",
        " print(\"2050년에는\", (age+2050-thisYear), \"살 이시군요.\")"
      ]
    }
  ]
}