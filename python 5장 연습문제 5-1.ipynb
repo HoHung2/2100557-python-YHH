{
  "nbformat": 4,
  "nbformat_minor": 0,
  "metadata": {
    "colab": {
      "name": "Untitled7.ipynb",
      "provenance": [],
      "authorship_tag": "ABX9TyNs+64oW/2GV62gBS0zGJLT",
      "include_colab_link": true
    },
    "kernelspec": {
      "name": "python3",
      "display_name": "Python 3"
    },
    "language_info": {
      "name": "python"
    }
  },
  "cells": [
    {
      "cell_type": "markdown",
      "metadata": {
        "id": "view-in-github",
        "colab_type": "text"
      },
      "source": [
        "<a href=\"https://colab.research.google.com/github/HoHung2/2100557-python-YHH/blob/main/python%205%EC%9E%A5%20%EC%97%B0%EC%8A%B5%EB%AC%B8%EC%A0%9C%205-1.ipynb\" target=\"_parent\"><img src=\"https://colab.research.google.com/assets/colab-badge.svg\" alt=\"Open In Colab\"/></a>"
      ]
    },
    {
      "cell_type": "code",
      "execution_count": null,
      "metadata": {
        "id": "8TQtu_vCkJpj"
      },
      "outputs": [],
      "source": [
        "#5장 연습문제\n",
        "\n",
        " #5-1\n",
        "age= int(input(\"나이를 입력하시오:\"))\n",
        "if age>= 15:\n",
        "  print(\"이영화를 보실 수 있습니다. 영화의 가격은 10000원 입니다.\")\n",
        "else:\n",
        "  print(\"이 영화를 보실 수 없습니다. 다른 영화를 보시겠습니까?\")\n",
        "\n",
        " #5-2\n",
        "import turtle as t\n",
        "t.shape(\"turtle\")\n",
        "\n",
        "t.width(3) # 선 두깨 3\n",
        "t.shapesize(3,3) #거북이 3배 확대\n",
        "\n",
        "while answer:\n",
        "  command = input(\"명령을 입력하시오: \")\n",
        "  if command == \"l\" or command == \"left\":     #l or left 입력하면\n",
        "    t.lft(90)\n",
        "    t.foward(100)\n",
        "  if command == \"r\" or command == \"right\":    #r or right 입력하면\n",
        "    t.right(90)\n",
        "    t.foward(100)\n",
        "\n"
      ]
    }
  ]
}