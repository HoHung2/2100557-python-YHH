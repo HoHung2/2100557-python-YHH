{
  "nbformat": 4,
  "nbformat_minor": 0,
  "metadata": {
    "colab": {
      "name": "Untitled5.ipynb",
      "provenance": [],
      "authorship_tag": "ABX9TyOLsuqXU1zyFlUy6mvaeend",
      "include_colab_link": true
    },
    "kernelspec": {
      "name": "python3",
      "display_name": "Python 3"
    },
    "language_info": {
      "name": "python"
    }
  },
  "cells": [
    {
      "cell_type": "markdown",
      "metadata": {
        "id": "view-in-github",
        "colab_type": "text"
      },
      "source": [
        "<a href=\"https://colab.research.google.com/github/HoHung2/2100557-python-YHH/blob/main/python%203%EC%9E%A5%20%EC%97%B0%EC%8A%B5%EB%AC%B8%EC%A0%9C%203-2%2C%203-3(%EA%B3%84%EC%82%B0!)%20.ipynb\" target=\"_parent\"><img src=\"https://colab.research.google.com/assets/colab-badge.svg\" alt=\"Open In Colab\"/></a>"
      ]
    },
    {
      "cell_type": "code",
      "execution_count": 4,
      "metadata": {
        "colab": {
          "base_uri": "https://localhost:8080/"
        },
        "id": "9RjrXCQxU5Iq",
        "outputId": "69c42b2c-4fb2-4d81-cd13-4c6a9ed5a145"
      },
      "outputs": [
        {
          "output_type": "stream",
          "name": "stdout",
          "text": [
            "섭시온도:30\n",
            "화씨온도: 86.0\n",
            "투입한 돈3000\n",
            "물건값500\n",
            "거스름돈:, change\n",
            "500원 개수: 5\n",
            "100원 개수: 0\n",
            "50원 개수: 0\n",
            "10원 개수: 0\n"
          ]
        }
      ],
      "source": [
        "#3장 도전문제 3-2\n",
        "ctemp=int(input(\"섭시온도:\"))\n",
        "ftemp=9/5*ctemp+32\n",
        "print(\"화씨온도:\", ftemp)\n",
        "\n",
        "#3-3 \n",
        "money = int(input(\"투입한 돈\"))\n",
        "price = int(input(\"물건값\"))\n",
        "\n",
        "change = money - price\n",
        "print(\"거스름돈:, change\")\n",
        "coin500s= change//500        #500으로 나누어서 몫이 500원짜리의 개수\n",
        "change = change % 500        #500으로 나눈 나머지를 계산한다\n",
        "coin100s= change//100        #100으로 나누어서 몫이 100원짜리의 개수\n",
        "change = change % 100        #100으로 나눈 나머지를 계산한다\n",
        "coin50s= change // 50        #50으로 나누어서 몫이 500원짜리의 개수\n",
        "change= change % 50          #50으로 나눈 나머지를 계산한다.\n",
        "coin10s= change // 10        #10으로 나누어서 몫이 500원짜리의 개수\n",
        "change = change % 10         #10으로 나눈 나머지를 계산한다.\n",
        "print (\"500원 개수:\", coin500s)\n",
        "print (\"100원 개수:\", coin100s)\n",
        "print (\"50원 개수:\", coin50s)\n",
        "print (\"10원 개수:\", coin10s)"
      ]
    }
  ]
}