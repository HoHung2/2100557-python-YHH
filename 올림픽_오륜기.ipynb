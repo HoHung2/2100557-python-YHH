{
  "nbformat": 4,
  "nbformat_minor": 0,
  "metadata": {
    "colab": {
      "name": "올림픽 오륜기.ipynb",
      "provenance": [],
      "authorship_tag": "ABX9TyN1NVlUqKWnIZGDSzR6Omgd",
      "include_colab_link": true
    },
    "kernelspec": {
      "name": "python3",
      "display_name": "Python 3"
    },
    "language_info": {
      "name": "python"
    }
  },
  "cells": [
    {
      "cell_type": "markdown",
      "metadata": {
        "id": "view-in-github",
        "colab_type": "text"
      },
      "source": [
        "<a href=\"https://colab.research.google.com/github/HoHung2/2100557-python-YHH/blob/main/%EC%98%AC%EB%A6%BC%ED%94%BD_%EC%98%A4%EB%A5%9C%EA%B8%B0.ipynb\" target=\"_parent\"><img src=\"https://colab.research.google.com/assets/colab-badge.svg\" alt=\"Open In Colab\"/></a>"
      ]
    },
    {
      "cell_type": "code",
      "metadata": {
        "id": "DFp8Pdd3t95u"
      },
      "source": [
        "import turtle as t\n",
        "t.width(5)\n",
        "t.color(\"blue\")\n",
        "t.circle(50)\n",
        "t.up()\n",
        "t.goto(110,0)\n",
        "t.down()\n",
        "\n",
        "t.color(\"black\")\n",
        "t.circle(50)\n",
        "t.up()\n",
        "t.goto(220,0)\n",
        "t.down()\n",
        "\n",
        "t.color(\"red\")\n",
        "t.circle(50) \n",
        "t.up()\n",
        "t.goto(156,-50)\n",
        "t.down()\n",
        "\n",
        "t.color(\"green\")\n",
        "t.circle(50)\n",
        "t.up()\n",
        "t.goto(35,-50)\n",
        "t.down()\n",
        "\n",
        "t.color(\"yellow\")\n",
        "t.circle(50)\n",
        "\n",
        "\n",
        "t.onclick()"
      ],
      "execution_count": null,
      "outputs": []
    },
    {
      "cell_type": "code",
      "metadata": {
        "id": "hZvhFfAit-oF"
      },
      "source": [
        ""
      ],
      "execution_count": null,
      "outputs": []
    }
  ]
}