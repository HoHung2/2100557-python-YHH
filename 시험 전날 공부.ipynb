{
  "nbformat": 4,
  "nbformat_minor": 0,
  "metadata": {
    "colab": {
      "name": "Untitled8.ipynb",
      "provenance": [],
      "authorship_tag": "ABX9TyPh1MyKie8xR1gLyVoahg1E",
      "include_colab_link": true
    },
    "kernelspec": {
      "name": "python3",
      "display_name": "Python 3"
    },
    "language_info": {
      "name": "python"
    }
  },
  "cells": [
    {
      "cell_type": "markdown",
      "metadata": {
        "id": "view-in-github",
        "colab_type": "text"
      },
      "source": [
        "<a href=\"https://colab.research.google.com/github/HoHung2/2100557-python-YHH/blob/main/%EC%8B%9C%ED%97%98%20%EC%A0%84%EB%82%A0%20%EA%B3%B5%EB%B6%80.ipynb\" target=\"_parent\"><img src=\"https://colab.research.google.com/assets/colab-badge.svg\" alt=\"Open In Colab\"/></a>"
      ]
    },
    {
      "cell_type": "code",
      "execution_count": null,
      "metadata": {
        "colab": {
          "base_uri": "https://localhost:8080/"
        },
        "id": "uLaoCkEXvhDh",
        "outputId": "89d9b8db-6dad-4a8c-c8f1-9d3935363340"
      },
      "outputs": [
        {
          "output_type": "stream",
          "name": "stdout",
          "text": [
            "나이:16\n",
            "신장:165\n",
            "탑승가능\n"
          ]
        }
      ],
      "source": [
        "#시험 전날 공부\n",
        "age= int(input(\"나이:\"))\n",
        "tall=int(input(\"신장:\"))\n",
        "\n",
        "if age>=10 and tall>=165:\n",
        "  print(\"탑승가능\")\n",
        "else:\n",
        "  print(\"탑승불가\")\n",
        "\n",
        "for i in range(5):\n",
        "  print(\"방문을 환영합니다.\")\n",
        "\n",
        "password= \"\"\n",
        "while password != \"pythonisfun\":\n",
        "    password=input(\"암호를 입력하시오:\")\n",
        "print(\"로그인되었습니다.\")"
      ]
    },
    {
      "cell_type": "code",
      "source": [
        ""
      ],
      "metadata": {
        "id": "6BuC2nwLv_H5"
      },
      "execution_count": null,
      "outputs": []
    }
  ]
}