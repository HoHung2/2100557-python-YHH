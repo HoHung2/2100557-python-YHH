{
  "nbformat": 4,
  "nbformat_minor": 0,
  "metadata": {
    "colab": {
      "name": "Untitled1.ipynb",
      "provenance": [],
      "authorship_tag": "ABX9TyOmGqOXNL9bnJBufDfi1aNc",
      "include_colab_link": true
    },
    "kernelspec": {
      "name": "python3",
      "display_name": "Python 3"
    },
    "language_info": {
      "name": "python"
    }
  },
  "cells": [
    {
      "cell_type": "markdown",
      "metadata": {
        "id": "view-in-github",
        "colab_type": "text"
      },
      "source": [
        "<a href=\"https://colab.research.google.com/github/HoHung2/2100557-python-YHH/blob/main/python%20%ED%95%99%EC%A0%90%20%EB%A7%8C%EB%93%A4%EA%B8%B0%20.ipynb\" target=\"_parent\"><img src=\"https://colab.research.google.com/assets/colab-badge.svg\" alt=\"Open In Colab\"/></a>"
      ]
    },
    {
      "cell_type": "code",
      "metadata": {
        "colab": {
          "base_uri": "https://localhost:8080/"
        },
        "id": "o_XA4kVwTWZW",
        "outputId": "8e54cca9-64ca-475f-c595-9d956a122719"
      },
      "source": [
        "x= int(input(\"점수를 입력 100~0 까지\"))   # 변수 지정\n",
        "if x>=90:                                 # 만약 90보다 크다면\n",
        "  print(\"A\")\n",
        "elif 90>x>=80:                            # 그렇지 않고 90보다 작고 80보다 작거나 같다면\n",
        "  print(\"B\")                              \n",
        "elif 80>x>=70:                            # =  \n",
        "  print(\"C\")\n",
        "else: print(\"F\")                          # 그밖에 점수들 \"F\"\n"
      ],
      "execution_count": 5,
      "outputs": [
        {
          "output_type": "stream",
          "name": "stdout",
          "text": [
            "점수를 입력 100~0 까지90\n",
            "A\n"
          ]
        }
      ]
    },
    {
      "cell_type": "markdown",
      "metadata": {
        "id": "nxDS0-HHTYUS"
      },
      "source": [
        ""
      ]
    },
    {
      "cell_type": "code",
      "metadata": {
        "id": "cteG4oiQTeJa"
      },
      "source": [
        ""
      ],
      "execution_count": null,
      "outputs": []
    }
  ]
}